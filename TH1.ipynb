{
  "metadata": {
    "kernelspec": {
      "name": "xpython",
      "display_name": "Python 3.13 (XPython)",
      "language": "python"
    },
    "language_info": {
      "file_extension": ".py",
      "mimetype": "text/x-python",
      "name": "python",
      "version": "3.13.1"
    }
  },
  "nbformat_minor": 5,
  "nbformat": 4,
  "cells": [
    {
      "id": "58692e8a-3e9f-497f-a472-3a52817f0f5c",
      "cell_type": "code",
      "source": "a = 7   #gán giá trị 7 cho biến a\nb = 5  #gán giá trị 5 cho biến b\nc = a - b #Lấy giá trị của a trừ giá trị của b → 7 - 5 = 2, rồi gán kết quả cho biến c.\nprint(c) #n ra màn hình giá trị của c, tức là 2.",
      "metadata": {
        "trusted": true
      },
      "outputs": [
        {
          "name": "stdout",
          "output_type": "stream",
          "text": "2\n"
        }
      ],
      "execution_count": 1
    },
    {
      "id": "fcd83877-a227-497e-a860-a1721ce0931f",
      "cell_type": "code",
      "source": "city = \"Hà Nội\"  #Tạo biến city và gán cho nó chuỗi \"Hà Nội\".\nyear = 2025  #Tạo biến year và gán cho nó số nguyên 2025.\nprint(\"Thành phố:\", city, \"Năm:\", year)  #Dùng hàm print() để in ra bốn thành phần: chuỗi \"Thành phố:\", giá trị của city, chuỗi \"Năm:\", và giá trị của year.\n\n",
      "metadata": {
        "trusted": true
      },
      "outputs": [
        {
          "name": "stdout",
          "output_type": "stream",
          "text": "Thành phố: Hà Nội Năm: 2025\n"
        }
      ],
      "execution_count": 2
    },
    {
      "id": "49e4e30e-dff3-4c15-9fd1-256fbdf67581",
      "cell_type": "code",
      "source": "n = 4  #Gán số 4 cho biến n.\nt = 0  #Khởi tạo biến t bằng 0\nfor i in range (1, n+1):  #Vòng lặp chạy qua tất cả các số từ 1 đến 4 (bao gồm 4)\n t += i #Mỗi lần lặp, cộng giá trị i vào t.\n print(t)  #Sau khi vòng lặp kết thúc, in ra giá trị của t. ",
      "metadata": {
        "trusted": true
      },
      "outputs": [
        {
          "name": "stdout",
          "output_type": "stream",
          "text": "1\n3\n6\n10\n"
        }
      ],
      "execution_count": 3
    },
    {
      "id": "fd9a899c-5fcd-4466-a6fa-73313713b0bf",
      "cell_type": "code",
      "source": "numbers = [1, 2, 3, 4]   # Tạo danh sách gồm bốn số nguyên: 1, 2, 3, 4\n\nfor x in numbers:        # Lần lượt lấy từng phần tử trong danh sách gán vào biến x\n    if x % 2 == 0:       # Kiểm tra: x chia hết cho 2 không?\n        print(x, \"là số chẵn\")  # Nếu đúng, in ra rằng x là số chẵn\n    else:\n        print(x, \"là số lẻ\")    # Nếu sai, in ra rằng x là số lẻ\n",
      "metadata": {
        "trusted": true
      },
      "outputs": [
        {
          "name": "stdout",
          "output_type": "stream",
          "text": "1 là số lẻ\n2 là số chẵn\n3 là số lẻ\n4 là số chẵn\n"
        }
      ],
      "execution_count": 4
    },
    {
      "id": "a6984b02-2ed6-4230-a15e-2be56af9d1f0",
      "cell_type": "code",
      "source": "animals = [\"cat\", \"dog\", \"cat\", \"bird\"]  # Tạo danh sách gồm 4 phần tử\ncount = 0                                # Khởi tạo biến đếm bằng 0\n\nfor a in animals:        # Duyệt qua từng phần tử trong danh sách\n    count += 1           # Mỗi lần lặp, cộng 1 vào biến đếm\n\nprint(\"Số phần tử trong danh sách là:\", count)  # In kết quả sau khi vòng lặp kết thúc\n",
      "metadata": {
        "trusted": true
      },
      "outputs": [
        {
          "name": "stdout",
          "output_type": "stream",
          "text": "Số phần tử trong danh sách là: 4\n"
        }
      ],
      "execution_count": 5
    },
    {
      "id": "07770c7b-3bb0-438c-95dd-7e2e7a759bf3",
      "cell_type": "code",
      "source": "print(\"=== AI Prediction System ===\")    #in ra tiêu đề \nprint(\"1) Sentiment analysis\")\nprint(\"2) Weather forecast\")\nprint(\"3) Exit\")\n#in ra 3 dòng lựa chọn\nchoice = input(\"Please choose an option: \")\n#yêu cầu người dùng nhập lựa chọn\n\n",
      "metadata": {
        "trusted": true
      },
      "outputs": [
        {
          "name": "stdout",
          "output_type": "stream",
          "text": "=== AI Prediction System ===\n1) Sentiment analysis\n2) Weather forecast\n3) Exit\n"
        }
      ],
      "execution_count": null
    },
    {
      "id": "59a873de-1fb0-475e-8764-c2368f727751",
      "cell_type": "code",
      "source": "#num = input(\"Nhập số: \")    num lấy từ input() là chuỗi, cần ép sang int trước khi tính %.\n#if num % 2 = 0:   Trong điều kiện if phải dùng == (so sánh bằng), không dùng =.\n#print(\"Số chẵn\")  Câu lệnh print phải thụt vào trong khối lệnh if\n#else #thiếu dấu :\n#print(\"Số lẻ\") \n#Các câu lệnh trong khối if và else phải thụt lề.\n#đoạn mã đã sửa\nnum = int(input(\"Nhập số: \"))  \n\nif num % 2 == 0:              \n    print(\"Số chẵn\")           \nelse:                          \n    print(\"Số lẻ\")\n",
      "metadata": {
        "trusted": true
      },
      "outputs": [
        {
          "output_type": "stream",
          "name": "stdin",
          "text": "Nhập số:  30\n"
        },
        {
          "name": "stdout",
          "output_type": "stream",
          "text": "Số chẵn\n"
        }
      ],
      "execution_count": 1
    },
    {
      "id": "fedf1830-ad70-459e-911c-11a90a78010f",
      "cell_type": "code",
      "source": "for i in range(3):                     # Tạo một vòng lặp chạy 3 lần với giá trị i lần lượt là 0, 1, 2.\n    print(\"AI đang học lần\", i + 1)    # Mỗi lần lặp, in ra thông báo “AI đang học lần …”, với số lần bằng i + 1.\nprint(\"Huấn luyện xong!\")              # Sau khi vòng lặp kết thúc, in ra thông báo “Huấn luyện xong!”.\n",
      "metadata": {
        "trusted": true
      },
      "outputs": [
        {
          "name": "stdout",
          "output_type": "stream",
          "text": "AI đang học lần 1\nAI đang học lần 2\nAI đang học lần 3\nHuấn luyện xong!\n"
        }
      ],
      "execution_count": 2
    },
    {
      "id": "40d3a00c-6534-4852-bacf-cfb5e1790660",
      "cell_type": "code",
      "source": "for x in [\"cat\", \"dog\", \"fish\"]:   #Tạo vòng lặp, lần lượt lấy các giá trị \"cat\", \"dog\", \"fish\" gán vào biến x.\n print(\"Dự đoán con vật:\", x)   #Mỗi lần lặp, in ra chuỗi \"Dự đoán con vật:\" kèm theo giá trị hiện tại của x.",
      "metadata": {
        "trusted": true
      },
      "outputs": [],
      "execution_count": null
    },
    {
      "id": "10372178-b380-4d75-bb69-79ec330c163d",
      "cell_type": "code",
      "source": "# Simple menu\nprint(\"=== AI Prediction System ===\")   # cần ngoặc tròn khi gọi print\nprint(\"1) Sentiment analysis\")\nprint(\"2) Weather forecast\")            # bỏ ngoặc thừa\nprint(\"3) Exit\")                        # đóng ngoặc đúng\nprint(\"Please choose an option:\")\n",
      "metadata": {
        "trusted": true
      },
      "outputs": [
        {
          "name": "stdout",
          "output_type": "stream",
          "text": "=== AI Prediction System ===\n1) Sentiment analysis\n2) Weather forecast\n3) Exit\nPlease choose an option:\n"
        }
      ],
      "execution_count": 3
    },
    {
      "id": "01ea5ff0-d2c2-47f4-b172-8484244c28f6",
      "cell_type": "code",
      "source": "",
      "metadata": {
        "trusted": true
      },
      "outputs": [],
      "execution_count": null
    }
  ]
}