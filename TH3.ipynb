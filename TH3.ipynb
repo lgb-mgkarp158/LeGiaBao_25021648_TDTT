{
  "metadata": {
    "kernelspec": {
      "name": "python",
      "display_name": "Python (Pyodide)",
      "language": "python"
    },
    "language_info": {
      "codemirror_mode": {
        "name": "python",
        "version": 3
      },
      "file_extension": ".py",
      "mimetype": "text/x-python",
      "name": "python",
      "nbconvert_exporter": "python",
      "pygments_lexer": "ipython3",
      "version": "3.8"
    }
  },
  "nbformat_minor": 5,
  "nbformat": 4,
  "cells": [
    {
      "id": "9dadd73d-05f6-4f21-88e1-c08b224c3489",
      "cell_type": "code",
      "source": "#W3A2\na = int(input())\nb = int(input())\n\nprint(a, b)\n\na = a ^ b\nb = a ^ b\na = a ^ b\n\nprint(a, b)\n",
      "metadata": {
        "trusted": true
      },
      "outputs": [],
      "execution_count": 1
    },
    {
      "id": "a7645a68-bfff-4e95-8a2c-8816f963179d",
      "cell_type": "code",
      "source": "#W3A3\nn = int(input(\"Nhập số n: \"))\nif n > 0 and (n & (n - 1)) == 0:\n    print(\"là lũy thừa của 2\")\nelse:\n    print(\"không là lũy thừa của 2\")",
      "metadata": {
        "trusted": true
      },
      "outputs": [
        {
          "output_type": "stream",
          "name": "stdin",
          "text": "Nhập số n:  8\n"
        },
        {
          "name": "stdout",
          "output_type": "stream",
          "text": "là lũy thừa của 2\n"
        }
      ],
      "execution_count": 2
    },
    {
      "id": "e764f502-9284-46bb-b946-0a7aba54867d",
      "cell_type": "code",
      "source": "#W3A4 + W3A5\nimport math\nm = int(input('Nhập số m: '))\nn = int(input('nhập số n: '))\ntron_xuong = math.floor(m / n)\ntron_len = math.ceil(m / n)\nprint(\"Kết quả làm tròn xuống:\", tron_xuong)\nprint(\"Kết quả làm tròn lên:\", tron_len)",
      "metadata": {
        "trusted": true
      },
      "outputs": [
        {
          "output_type": "stream",
          "name": "stdin",
          "text": "Nhập số m:  29\nnhập số n:  33\n"
        },
        {
          "name": "stdout",
          "output_type": "stream",
          "text": "Kết quả làm tròn xuống: 0\nKết quả làm tròn lên: 1\n"
        }
      ],
      "execution_count": 3
    },
    {
      "id": "a9100783-0682-4098-b92f-0b7eb8dd6402",
      "cell_type": "code",
      "source": "# W3A6 \nx = int(input(\"Nhập số nguyên dương x: \"))\nif x % 2 == 0:\n    print(\"Chẵn\")\nelse:\n    print(\"Lẻ\")",
      "metadata": {
        "trusted": true
      },
      "outputs": [
        {
          "output_type": "stream",
          "name": "stdin",
          "text": "Nhập số nguyên dương x:  25\n"
        },
        {
          "name": "stdout",
          "output_type": "stream",
          "text": "Lẻ\n"
        }
      ],
      "execution_count": 4
    },
    {
      "id": "4233bf67-0fc4-482b-bbda-5ff6f40b81be",
      "cell_type": "code",
      "source": "#W3A7\na = int(input(\"Nhập số a: \"))\nb = int(input(\"Nhập số b: \"))\nif a < 0 and b < 0:\n    print(\"Yes\")\nelse:\n    print(\"No\")",
      "metadata": {
        "trusted": true
      },
      "outputs": [
        {
          "output_type": "stream",
          "name": "stdin",
          "text": "Nhập số a:  123\nNhập số b:  32\n"
        },
        {
          "name": "stdout",
          "output_type": "stream",
          "text": "No\n"
        }
      ],
      "execution_count": 5
    },
    {
      "id": "627b6b1f-4045-4d4f-a111-6fe24bfa65d9",
      "cell_type": "code",
      "source": "#W3A8\na = input(\"Nhập chuỗi a: \")\nb = input(\"Nhập chuỗi b: \")\n\nif len(a) > len(b):\n    print(\"True\")\nelse:\n    print(\"False\")\n",
      "metadata": {
        "trusted": true
      },
      "outputs": [
        {
          "output_type": "stream",
          "name": "stdin",
          "text": "Nhập chuỗi a:  123123132\nNhập chuỗi b:  123\n"
        },
        {
          "name": "stdout",
          "output_type": "stream",
          "text": "True\n"
        }
      ],
      "execution_count": 6
    },
    {
      "id": "95d50c80-428d-43db-be97-cb4a8f861cfe",
      "cell_type": "code",
      "source": "#W3A9\na = int(input(\"Nhập cạnh a: \"))\nb = int(input(\"Nhập cạnh b: \"))\nc = int(input(\"Nhập cạnh c: \"))\n\nif a + b > c and a + c > b and b + c > a:\n    print(\"Yes\")\nelse:\n    print(\"No\")",
      "metadata": {
        "trusted": true
      },
      "outputs": [
        {
          "output_type": "stream",
          "name": "stdin",
          "text": "Nhập cạnh a:  123123\nNhập cạnh b:  123123\nNhập cạnh c:  123\n"
        },
        {
          "name": "stdout",
          "output_type": "stream",
          "text": "Yes\n"
        }
      ],
      "execution_count": 7
    },
    {
      "id": "d2c7db6e-2c9b-4fa8-9794-258f6fd8754d",
      "cell_type": "code",
      "source": "#W3A10\na = float(input(\"Nhập a: \"))\nb = float(input(\"Nhập b: \"))\nc = float(input(\"Nhập c: \"))\nd = float(input(\"Nhập d: \"))\nmax_value = max(a, b, c, d)\nprint(f\"Giá trị lớn nhất trong 4 số là: {max_value}\")\n",
      "metadata": {
        "trusted": true
      },
      "outputs": [
        {
          "output_type": "stream",
          "name": "stdin",
          "text": "Nhập a:  1\nNhập b:  2\nNhập c:  3\nNhập d:  4\n"
        },
        {
          "name": "stdout",
          "output_type": "stream",
          "text": "Giá trị lớn nhất trong 4 số là: 4.0\n"
        }
      ],
      "execution_count": 8
    },
    {
      "id": "4c6e86b5-6a84-4566-8bd6-176e1232bd22",
      "cell_type": "code",
      "source": "#W3A11\nimport math\n\na = float(input('Nhập vào số thực a bất kỳ: '))\nb = float(input('Nhập vào số thực b bất kỳ: '))\nc = float(input('Nhập vào số thực c bất kỳ: '))\n\nif (a+b<=c) or (a+c<=b) or (b+c<=a) or a <= 0 or b <= 0 or c <= 0:\n    print('3 số đã nhập không tạo thành 1 tam giác')\nelse: \n    if a == b == c:\n        print('3 số đã nhập tạo thành 1 tam giác đều')\n    elif a == b or a == c or b == c:\n        print('3 số đã nhập tạo thành 1 tam giác cân')\n    elif ((a**2 + b**2) == c**2) or ((a**2 + c**2)== b**2) or ((b**2 + c**2) == a**2):\n        print('3 số đã nhập tạo thành 1 tam giác vuông')\n    else:\n        print('3 số đã nhập tạo thành 1 tam giác thường')",
      "metadata": {
        "trusted": true
      },
      "outputs": [
        {
          "output_type": "stream",
          "name": "stdin",
          "text": "Nhập vào số thực a bất kỳ:  123123\nNhập vào số thực b bất kỳ:  123123123\nNhập vào số thực c bất kỳ:  123123\n"
        },
        {
          "name": "stdout",
          "output_type": "stream",
          "text": "3 số đã nhập không tạo thành 1 tam giác\n"
        }
      ],
      "execution_count": 9
    },
    {
      "id": "d3f3f439-cc51-4d53-a188-ed2687a91c79",
      "cell_type": "code",
      "source": "#W3A12\nn = int(input(\"Nhập năm: \"))\nif (n % 4 == 0 and n % 100 != 0) or (n % 400 == 0):\n    print(\"Yes\")\nelse:\n    print(\"No\")",
      "metadata": {
        "trusted": true
      },
      "outputs": [
        {
          "output_type": "stream",
          "name": "stdin",
          "text": "Nhập năm:  2026\n"
        },
        {
          "name": "stdout",
          "output_type": "stream",
          "text": "No\n"
        }
      ],
      "execution_count": 10
    },
    {
      "id": "ea74279e-56e1-469b-8409-249effae9c4f",
      "cell_type": "code",
      "source": "#W3A14\na = float(input('Vui lòng nhập hệ số a trong phương trình dạng ax + b = 0: '))\nb = float(input(' Vui lòng nhập hệ số b trong phương trình dạng ax + b = 0: '))\nif a == 0:\n    if b == 0:\n     print ('Vô số nghiệm')\n    else:\n     print (\" Vô nghiệm\")\nelse:\n    x = -b/a\n    print (f\"Phương trình có nghiệm duy nhất: x = {x:.2f}\")",
      "metadata": {
        "trusted": true
      },
      "outputs": [
        {
          "output_type": "stream",
          "name": "stdin",
          "text": "Vui lòng nhập hệ số a trong phương trình dạng ax + b = 0:  132\n Vui lòng nhập hệ số b trong phương trình dạng ax + b = 0:  123\n"
        },
        {
          "name": "stdout",
          "output_type": "stream",
          "text": "Phương trình có nghiệm duy nhất: x = -0.93\n"
        }
      ],
      "execution_count": 14
    },
    {
      "id": "71dea72e-d9e1-4d35-ac6e-52dfff493b49",
      "cell_type": "code",
      "source": "#W3A15\ndtb = float(input(\"Nhập điểm trung bình: \"))\n\nif dtb >= 8.0:\n    print(\"Giỏi\")\nelif dtb >= 6.5:\n    print(\"Khá\")\nelif dtb >= 5.0:\n    print(\"Trung bình\")\nelse:\n    print(\"Yếu\")",
      "metadata": {
        "trusted": true
      },
      "outputs": [
        {
          "output_type": "stream",
          "name": "stdin",
          "text": "Nhập điểm trung bình:  8.5\n"
        },
        {
          "name": "stdout",
          "output_type": "stream",
          "text": "Giỏi\n"
        }
      ],
      "execution_count": 15
    },
    {
      "id": "61130805-abdf-4598-ac6e-e8da3298f5a7",
      "cell_type": "code",
      "source": "# W3A16 \nx = float(input())\nnguyen = int(x)\nthapphan = x - nguyen\nfloor_val = nguyen\nif thapphan > 0:\n    ceil_val = nguyen + 1\nelse:\n    ceil_val = nguyen\n\nif thapphan < 0.5:\n    round_val = nguyen\nelse:\n    round_val = nguyen + 1\n\nprint(f\"{floor_val} {ceil_val} {round_val}\")\n",
      "metadata": {
        "trusted": true
      },
      "outputs": [
        {
          "output_type": "stream",
          "name": "stdin",
          "text": " 2423.234234\n"
        },
        {
          "name": "stdout",
          "output_type": "stream",
          "text": "2423 2424 2423\n"
        }
      ],
      "execution_count": 17
    },
    {
      "id": "3850fd60-8394-4ffa-b34d-c55ab41ebbf2",
      "cell_type": "code",
      "source": "#\na = int(input(\"Nhập a: \"))\nb = int(input(\"Nhập b: \"))\nc = int(input(\"Nhập c: \"))\nd = int(input(\"Nhập d: \"))\n\nif b % a == 0:\n    r = b // a\n    if b * r == c and c * r == d:\n        print(\"Có thể tạo\")\n    else:\n        print(\"Không thể tao\")\nelse:\n    print(\"Không thể \")",
      "metadata": {
        "trusted": true
      },
      "outputs": [],
      "execution_count": null
    }
  ]
}