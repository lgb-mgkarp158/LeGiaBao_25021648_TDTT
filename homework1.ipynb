{
  "metadata": {
    "kernelspec": {
      "name": "python",
      "display_name": "Python (Pyodide)",
      "language": "python"
    },
    "language_info": {
      "codemirror_mode": {
        "name": "python",
        "version": 3
      },
      "file_extension": ".py",
      "mimetype": "text/x-python",
      "name": "python",
      "nbconvert_exporter": "python",
      "pygments_lexer": "ipython3",
      "version": "3.8"
    }
  },
  "nbformat_minor": 5,
  "nbformat": 4,
  "cells": [
    {
      "id": "3ecddfb9-694d-4e55-911b-0d0366587cd8",
      "cell_type": "code",
      "source": "n = int(input('Nhập vào số nguyên n: '))\nprint(n*2)\n",
      "metadata": {
        "trusted": true
      },
      "outputs": [],
      "execution_count": null
    },
    {
      "id": "eaa663e9-8a40-434a-8a00-77263a6820e4",
      "cell_type": "code",
      "source": "a = float(input('Nhập chiều rộng thuở đất hình chữ nhật: '))\nb = float(input('Nhập chiều dài thuở đất hình chữ nhật: '))\nradius = a/2 \narea = a * b - 3.14 * radius * radius\nprint(f'Diện tích thuở đất còn lại để trồng cây là: {area:.2f}')",
      "metadata": {
        "trusted": true
      },
      "outputs": [],
      "execution_count": null
    },
    {
      "id": "67c715b3-132f-409a-a6db-8b7a56031e86",
      "cell_type": "code",
      "source": "c = input(\"Enter a character: \")\nif c.isupper():\n print(c.lower())\nelse:\n    print(c.upper())",
      "metadata": {
        "trusted": true
      },
      "outputs": [],
      "execution_count": null
    },
    {
      "id": "95168c6e-e6f8-479a-a3ff-ed1b7dc19585",
      "cell_type": "code",
      "source": "ch = input(\"Enter a character: \")\nif ch.isalpha():\n    print(f'\"{ch}\" là kí tự alphabet.')\nelse:\n    print(f'\"{ch}\" không phải là kí tự alphabet.')\n    ",
      "metadata": {
        "trusted": true
      },
      "outputs": [],
      "execution_count": null
    },
    {
      "id": "4ce2fa82-13c9-4f60-874e-d004dd129adb",
      "cell_type": "code",
      "source": "c = input()\n\nif c == 'A':\n    print('z')\nelse:\n    print(chr(ord(c.lower()) - 1))\n",
      "metadata": {
        "trusted": true
      },
      "outputs": [],
      "execution_count": null
    },
    {
      "id": "4c492fd8-d3aa-4978-8c6b-285dc6fa31c1",
      "cell_type": "code",
      "source": "a, b, c = map(float, input('nhập liền kề 3 số thực a b c: ').split())\n\nif a + b > c and a + c > b and b + c > a:\n    p = (a + b + c) / 2\n    area = (p * (p - a) * (p - b) * (p - c)) ** 0.5\n    print(f\" 3 số thực trên tạo thành 1 tam giác có diện tích là {area:.1f}\")\nelse:\n    print(\"3 số thực trên không tạo thành 1 tam giác\")\n",
      "metadata": {
        "trusted": true
      },
      "outputs": [],
      "execution_count": null
    },
    {
      "id": "f65aa46f-66f5-4c4f-9b1b-48329435e908",
      "cell_type": "code",
      "source": "string = input('Nhập vào 1 chuỗi ký tự có độ dài >= 20 ')\nif len(string) < 20:\n    print('Chuỗi ký tự không dài hơn 20 ký tự')\nelse:\n    print(string[4], string[8])",
      "metadata": {
        "trusted": true
      },
      "outputs": [],
      "execution_count": null
    },
    {
      "id": "8ab95801-5270-4dea-b0fa-dad463da84d5",
      "cell_type": "code",
      "source": "owner = input('Nhập tên chủ hộ: ')\nlast_electric = int(input('Nhập chỉ số điện tháng trước (kWh): '))\ncurrent_electric = int(input('Nhập chỉ số điện tháng này (kWh): '))\nso_dien = current_electric - last_electric\nif so_dien < 0:\n    print(\"đồng chí dám 'câu' điện của nhà nước à???\")\nelif 0<= so_dien <= 50: \n    tien_dien = so_dien * 1984\nelif 51<= so_dien <= 100:\n    tien_dien = so_dien * 2050\nelif 101<= so_dien <= 200:\n    tien_dien = so_dien * 2380\nelif 201<= so_dien <= 300:\n    tien_dien = so_dien * 2998\nelif 301<= so_dien <= 400:\n    tien_dien = so_dien * 3350\nelif so_dien > 400: \n    tien_dien = so_dien * 3.460 \ntotal = tien_dien + (tien_dien*0.8)\nprint('Họ và tên: ', owner, )\nprint('Tiền phải trả là: ', total, 'VND') ",
      "metadata": {
        "trusted": true
      },
      "outputs": [],
      "execution_count": null
    },
    {
      "id": "1b1cd848-fedb-451f-811e-8a6332d98cd8",
      "cell_type": "code",
      "source": "num= int(input('Nhập một số nguyên :'))\nif num % 2 == 0:\n    print(f'{num} là số chẵn')\nelse:\n    print(f'{num} là số lẻ')\n    ",
      "metadata": {
        "trusted": true
      },
      "outputs": [],
      "execution_count": null
    },
    {
      "id": "6cc2d3cc-a39e-481d-b9ba-28d7e145cbe5",
      "cell_type": "code",
      "source": "num_last_5 = int(input('Nhập số nguyên cần kiểm tra:' ))\nif num_last_5 % 10 == 5:\n    print('True')\nelse:\n    print('False')\n    ",
      "metadata": {
        "trusted": true
      },
      "outputs": [],
      "execution_count": null
    },
    {
      "id": "ba11b889-345f-469e-9037-0a6cdf28b4da",
      "cell_type": "code",
      "source": "num = int(input('Nhập một số nguyên: '))\nif num%3 == 0 and num%5 == 0:\n    print('True')  \nelse:\n    print('False')",
      "metadata": {
        "trusted": true
      },
      "outputs": [],
      "execution_count": null
    },
    {
      "id": "eec3642a-e1ae-4760-a36f-16cca5143a92",
      "cell_type": "code",
      "source": "birthyear = int(input('Nhập năm sinh của chú:  '))\nage = 2025 - birthyear\nif age >= 18:\n    print('Chú đã đủ tuổi bầu cử')\nelse:\n    print('Chú chưa đủ tuổi bầu cử')",
      "metadata": {
        "trusted": true
      },
      "outputs": [],
      "execution_count": null
    },
    {
      "id": "a5881f1c-6fb6-4275-a16f-131b7afa556e",
      "cell_type": "code",
      "source": "a = float(input())\nb = float(input())\nif a == b:\n    print ('Hai số bằng nhau')\nelif a > b:\n    print (a)\nelif a < b:\n    print (b)\nelse:\n    print ('nhập sai')\n",
      "metadata": {
        "trusted": true
      },
      "outputs": [],
      "execution_count": null
    },
    {
      "id": "a9c985f9-98b4-4407-b3b0-c38da760c3f4",
      "cell_type": "code",
      "source": "ch = input(\"Nhập vào 1 ký tự : \")\nif ch.isalpha():\n    print(ch, \"là chữ cái\")\nelif ch.isdigit():\n    print(ch, \"là chữ số\")\nelse:\n    print(ch, \"là ký tự đặc biệt\")\n    ",
      "metadata": {
        "trusted": true
      },
      "outputs": [],
      "execution_count": null
    },
    {
      "id": "58780e34-f072-45fb-97ae-3a72b0c8e736",
      "cell_type": "code",
      "source": "grade = float(input('nhập điểm học của chú: '))\nif grade < 0: \n    print ('Hay lắm thằng nhóc con')\nelif grade < 5:\n    print('Học lực yếu')\nelif 5<= grade < 6.5:\n    print('Học lực trung bình')\nelif 6.5 <= grade < 8:\n    print('Học lực khá')\nelif 8 <= grade:\n    print('Học lực giỏi')\nelse: \n    print('Đỉnh cao đấy thằng nhóc')\n    ",
      "metadata": {
        "trusted": true
      },
      "outputs": [],
      "execution_count": null
    },
    {
      "id": "25da6099-8b31-4885-ab7b-9e59295ec477",
      "cell_type": "code",
      "source": "year = int(input('Nhập 1 năm vào: '))\nif (year % 4 == 0 and year % 100 != 0) or (year % 400 == 0):\n    print(f'{year} là năm nhuận')      \nelse:\n    print(f'{year} không phải là năm nhuận')\n    ",
      "metadata": {
        "trusted": true
      },
      "outputs": [],
      "execution_count": null
    },
    {
      "id": "9793db4c-c665-4b88-8000-439469a74ad8",
      "cell_type": "code",
      "source": "n = int(input(\"Nhập số từ 0 đến 9: \"))\n\nmatch n:\n    case 0:\n        print(\"Không\")\n    case 1:\n        print(\"Một\")\n    case 2:\n        print(\"Hai\")\n    case 3:\n        print(\"Ba\")\n    case 4:\n        print(\"Bốn\")\n    case 5:\n        print(\"Năm\")\n    case 6:\n        print(\"Sáu\")\n    case 7:\n        print(\"Bảy\")\n    case 8:\n        print(\"Tám\")\n    case 9:\n        print(\"Chín\")\n    case _:\n        print(\"Số không hợp lệ\")\n",
      "metadata": {
        "trusted": true
      },
      "outputs": [],
      "execution_count": null
    },
    {
      "id": "13435f7f-ecef-40b1-83a7-b8f4bd47319b",
      "cell_type": "code",
      "source": "grade = float(input('Nhập điểm thi: '))\nif grade >=4:\n    print ('chú mày qua môn')\nelse:\n    print ('chú mày cần học lại')\n    ",
      "metadata": {
        "trusted": true
      },
      "outputs": [],
      "execution_count": null
    },
    {
      "id": "05151572-9472-421f-b965-7e9aa1c0a56d",
      "cell_type": "code",
      "source": "nam_sinh = int(input(\"Nhập năm sinh: \"))\ntuoi = 2025 - nam_sinh\n\nprint(\"Tuổi hiện tại:\", tuoi)\n\nif tuoi >= 18:\n    print(\"Đủ 18 tuổi trở lên\")\nelse:\n    print(\"Chưa đủ 18 tuổi\")\n",
      "metadata": {
        "trusted": true
      },
      "outputs": [],
      "execution_count": null
    }
  ]
}