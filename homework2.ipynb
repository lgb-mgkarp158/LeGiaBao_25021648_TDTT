{
  "metadata": {
    "kernelspec": {
      "name": "python",
      "display_name": "Python (Pyodide)",
      "language": "python"
    },
    "language_info": {
      "codemirror_mode": {
        "name": "python",
        "version": 3
      },
      "file_extension": ".py",
      "mimetype": "text/x-python",
      "name": "python",
      "nbconvert_exporter": "python",
      "pygments_lexer": "ipython3",
      "version": "3.8"
    }
  },
  "nbformat_minor": 5,
  "nbformat": 4,
  "cells": [
    {
      "id": "f650eb12-d661-4ae7-babb-a38a0286f07b",
      "cell_type": "code",
      "source": "#Bài 1\na = float(input('Hãy nhập vào cạnh dài của hình chữ nhật: '))\nb = float(input('Hãy nhập vào cạnh rộng của hình chữ nhật: '))\ns = a * b\nc = (a + b) * 2\nprint(f\"Diện tích của hình chữ nhật cần tính là {s}\\nChu vi của hình chữ nhật là {c}\")\n",
      "metadata": {
        "trusted": true
      },
      "outputs": [
        {
          "output_type": "stream",
          "name": "stdin",
          "text": "Hãy nhập vào cạnh dài của hình chữ nhật:  11\nHãy nhập vào cạnh rộng của hình chữ nhật:  1\n"
        },
        {
          "name": "stdout",
          "output_type": "stream",
          "text": "Diện tích của hình chữ nhật cần tính là 11.0\nChu vi của hình chữ nhật là 24.0\n"
        }
      ],
      "execution_count": 1
    },
    {
      "id": "8cb270dc-5b27-452d-a536-f2e77e5dfb5b",
      "cell_type": "code",
      "source": "#Bài 2\nimport math \nradius = float(input(\"Hãy nhập bán kính của hình tròn cần tính: \"))\ns = math.pi * (radius ** 2) \nc = 2 * math.pi * radius     \nprint(f\"Diện tích hình tròn là {s:.2f}\\nChu vi hình tròn là {c:.2f}\")\n",
      "metadata": {
        "trusted": true
      },
      "outputs": [
        {
          "output_type": "stream",
          "name": "stdin",
          "text": "Hãy nhập bán kính của hình tròn cần tính:  1\n"
        },
        {
          "name": "stdout",
          "output_type": "stream",
          "text": "Diện tích hình tròn là 3.14\nChu vi hình tròn là 6.28\n"
        }
      ],
      "execution_count": 2
    },
    {
      "id": "775a14e3-71b1-4dca-9a6c-c0b18fccb37e",
      "cell_type": "code",
      "source": "#Bài 3\nimport math\n\na = float(input('Nhập vào số thực a bất kỳ: '))\nb = float(input('Nhập vào số thực b bất kỳ: '))\nc = float(input('Nhập vào số thực c bất kỳ: '))\n\nif (a+b<=c) or (a+c<=b) or (b+c<=a) or a <= 0 or b <= 0 or c <= 0:\n    print('3 số đã nhập không tạo thành 1 tam giác')\nelse: \n    if a == b == c:\n        print('3 số đã nhập tạo thành 1 tam giác đều')\n    elif a == b or a == c or b == c:\n        print('3 số đã nhập tạo thành 1 tam giác cân')\n    elif ((a**2 + b**2) == c**2) or ((a**2 + c**2)== b**2) or ((b**2 + c**2) == a**2):\n        print('3 số đã nhập tạo thành 1 tam giác vuông')\n    else:\n        print('3 số đã nhập tạo thành 1 tam giác thường')\n\n  \n    chu_vi = a + b + c\n    p = chu_vi / 2\n    S = math.sqrt(p * (p - a) * (p - b) * (p - c))\n\n    print(f\"Chu vi hình tam giác là {chu_vi}\")\n    print(f\"Diện tích hình tam giác là {S}\")\n",
      "metadata": {
        "trusted": true
      },
      "outputs": [
        {
          "output_type": "stream",
          "name": "stdin",
          "text": "Nhập vào số thực a bất kỳ:  1\nNhập vào số thực b bất kỳ:  1\nNhập vào số thực c bất kỳ:  1\n"
        },
        {
          "name": "stdout",
          "output_type": "stream",
          "text": "3 số đã nhập tạo thành 1 tam giác đều\nChu vi hình tam giác là 3.0\nDiện tích hình tam giác là 0.4330127018922193\n"
        }
      ],
      "execution_count": 3
    },
    {
      "id": "2d4b9897-aaf0-4a7e-8f16-563b4666a92a",
      "cell_type": "code",
      "source": "#Bài 4\nprint ('---HỆ THỐNG GIẢI PHƯƠNG TRÌNH BẬC NHẤT---')\na = float(input('Vui lòng nhập hệ số a trong phương trình dạng ax + b = 0: '))\nb = float(input(' Vui lòng nhập hệ số b trong phương trình dạng ax + b = 0: '))\nif a == 0:\n    if b == 0:\n     print ('Vô số nghiệm')\n    else:\n     print (\" Vô nghiệm\")\nelse:\n    x = -b/a\n    print (f\"Phương trình có nghiệm duy nhất: x = {x}\")\n    ",
      "metadata": {
        "trusted": true
      },
      "outputs": [
        {
          "name": "stdout",
          "output_type": "stream",
          "text": "---HỆ THỐNG GIẢI PHƯƠNG TRÌNH BẬC NHẤT---\n"
        },
        {
          "output_type": "stream",
          "name": "stdin",
          "text": "Vui lòng nhập hệ số a trong phương trình dạng ax + b = 0:  1\n Vui lòng nhập hệ số b trong phương trình dạng ax + b = 0:  1\n"
        },
        {
          "name": "stdout",
          "output_type": "stream",
          "text": "Phương trình có nghiệm duy nhất: x = -1.0\n"
        }
      ],
      "execution_count": 4
    },
    {
      "id": "5a00f849-6559-43e0-84f7-9f85dfaf225d",
      "cell_type": "code",
      "source": "#Bài 4 cách 2\na = float(input(\"Nhập hệ số a: \"))\nb = float(input(\"Nhập hệ số b: \"))\n\nif a == 0 and b == 0:\n    print(\"Phương trình có vô số nghiệm\")\nelif a == 0 and b != 0:\n    print(\"Phương trình vô nghiệm\")\nelse:\n    x = -b / a\n    print(f\"Phương trình có nghiệm duy nhất: x = {x}\")\n    ",
      "metadata": {
        "trusted": true
      },
      "outputs": [
        {
          "output_type": "stream",
          "name": "stdin",
          "text": "Nhập hệ số a:  1\nNhập hệ số b:  1\n"
        },
        {
          "name": "stdout",
          "output_type": "stream",
          "text": "Phương trình có nghiệm duy nhất: x = -1.0\n"
        }
      ],
      "execution_count": 5
    },
    {
      "id": "201c82f1-2b7a-4a14-a3c1-1dc0df300af5",
      "cell_type": "code",
      "source": "#Bài 5\nimport math\na = float(input(\"Nhập a: \"))\nb = float(input(\"Nhập b: \"))\nc = float(input(\"Nhập c: \"))\nif a == 0:\n    if b == 0:\n        if c == 0:\n            print(\"Phương trình có vô số nghiệm\")\n        else:\n            print(\"Phương trình vô nghiệm\")\n    else:\n        x = -c / b\n        print(f\"Phương trình bậc nhất, có nghiệm là x = {x}\")\nelse:  \n    denta = b**2 - 4*a*c\n    if denta < 0:\n        print(\"Phương trình vô nghiệm\")\n    elif denta == 0:\n        x = -b / (2*a)\n        print(f\"Phương trình có nghiệm kép: x1 = x2 = {x}\")\n    else:\n        x1 = (-b + math.sqrt(denta)) / (2*a)\n        x2 = (-b - math.sqrt(denta)) / (2*a)\n        print(f\"Phương trình có 2 nghiệm phân biệt x1 = {x1}, x2 = {x2}\")",
      "metadata": {
        "trusted": true
      },
      "outputs": [
        {
          "output_type": "stream",
          "name": "stdin",
          "text": "Nhập a:  1\nNhập b:  1\nNhập c:  1\n"
        },
        {
          "name": "stdout",
          "output_type": "stream",
          "text": "Phương trình vô nghiệm\n"
        }
      ],
      "execution_count": 6
    },
    {
      "id": "2bb0f1d0-4f7c-49c5-a48e-142790824317",
      "cell_type": "code",
      "source": "#Bài 6 + Bài 7\na = float(input(\"Nhập a: \"))\nb = float(input(\"Nhập b: \"))\nc = float(input(\"Nhập c: \"))\nd = float(input(\"Nhập d: \"))\n\nmax_value = max(a, b, c, d)\nmin_value = min(a, b, c, d)\nprint(f\"Giá trị lớn nhất trong 4 số là: {max_value}\")\nprint(f\"Giá trị nhỏ nhất trong 4 số là: {min_value}\")",
      "metadata": {
        "trusted": true
      },
      "outputs": [
        {
          "output_type": "stream",
          "name": "stdin",
          "text": "Nhập a:  1\nNhập b:  1\nNhập c:  1\nNhập d:  1\n"
        },
        {
          "name": "stdout",
          "output_type": "stream",
          "text": "Giá trị lớn nhất trong 4 số là: 1.0\nGiá trị nhỏ nhất trong 4 số là: 1.0\n"
        }
      ],
      "execution_count": 7
    },
    {
      "id": "42809a64-d25a-4601-9f8a-40c34f5f24b8",
      "cell_type": "code",
      "source": "#Bài 8 Cách 1\n#PP thế\na = float(input(\"Nhập a: \"))\nb = float(input(\"Nhập b: \"))\nc = float(input(\"Nhập c: \"))\nd = float(input(\"Nhập d: \"))\nm = float(input(\"Nhập m: \"))\nn = float(input(\"Nhập n: \"))\nif a != 0:   \n    A = (-c*b)/a + d\n    B = n - (c*m)/a    \n    if A == 0:\n        if B == 0:\n            print(\"Hệ pt có vô số nghiệm\")\n        else:\n            print(\"Hệ pt vô nghiệm\")\n    else:\n        y = B / A\n        x = (m - b*y) / a\n        print(f\"Nghiệm: x = {x:.2f}, y = {y:.2f}\")\n        \nelif b != 0:  \n    A = c - (d*a)/b\n    B = n - (d*m)/b\n    \n    if A == 0:\n        if B == 0:\n            print(\"Hệ có vô số nghiệm\")\n        else:\n            print(\"Hệ vô nghiệm\")\n    else:\n        x = B / A\n        y = (m - a*x) / b\n        print(f\"Nghiệm: x = {x:.2f}, y = {y:.2f}\")\nelse:\n    print(\"Hệ không hợp lệ (cả a và b đều bằng 0)\")\n",
      "metadata": {
        "trusted": true
      },
      "outputs": [
        {
          "output_type": "stream",
          "name": "stdin",
          "text": "Nhập a:  1\nNhập b:  1\nNhập c:  1123\nNhập d:  123\nNhập m:  123\nNhập n:  523234\n"
        },
        {
          "name": "stdout",
          "output_type": "stream",
          "text": "Nghiệm: x = 508.11, y = -385.11\n"
        }
      ],
      "execution_count": 13
    },
    {
      "id": "9ec5ee4f-ce90-4915-92cd-765255c47a51",
      "cell_type": "code",
      "source": "#Bài 9\nx = int(input(\"Nhập số giây muốn quy đổi: \"))\nh = x // 3600\nm = (x % 3600) // 60\ns = x % 60\nprint(f\"{x} giây = {h} giờ {m} phút {s} giây\")",
      "metadata": {
        "trusted": true
      },
      "outputs": [
        {
          "output_type": "stream",
          "name": "stdin",
          "text": "Nhập số giây muốn quy đổi:  123123123\n"
        },
        {
          "name": "stdout",
          "output_type": "stream",
          "text": "123123123 giây = 34200 giờ 52 phút 3 giây\n"
        }
      ],
      "execution_count": 9
    },
    {
      "id": "0d63ffe8-1bef-4bd1-9042-e9801de91170",
      "cell_type": "code",
      "source": "#Bài 10\nx0 = float(input(\"Nhập hoành độ tâm O: \"))\ny0 = float(input(\"Nhập tung độ tâm O: \"))\nr = float(input(\"Nhập bán kính r: \"))\n\nx = float(input(\"Nhập hoành độ điểm A: \"))\ny = float(input(\"Nhập tung độ điểm A: \"))\n\nkhoang_cach = (x - x0)**2 + (y - y0)**2\n\nif khoang_cach == r**2 :\n    print(\"Điểm A nằm trên đường tròn\")\nelif khoang_cach < r**2:\n    print(\"Điểm A nằm trong đường tròn\")\nelse:\n    print(\"Điểm A nằm ngoài đường tròn\")\n",
      "metadata": {
        "trusted": true
      },
      "outputs": [
        {
          "output_type": "stream",
          "name": "stdin",
          "text": "Nhập hoành độ tâm O:  3\nNhập tung độ tâm O:  3\nNhập bán kính r:  1\nNhập hoành độ điểm A:  4\nNhập tung độ điểm A:  4\n"
        },
        {
          "name": "stdout",
          "output_type": "stream",
          "text": "Điểm A nằm ngoài đường tròn\n"
        }
      ],
      "execution_count": 16
    },
    {
      "id": "d93477bc-ddc0-435b-9b28-9690dce5a631",
      "cell_type": "code",
      "source": "#Bài 11\nx = float(input(\"Nhập x: \"))\ny = float(input(\"Nhập y: \"))\nprint (x**y)\n",
      "metadata": {
        "trusted": true
      },
      "outputs": [
        {
          "output_type": "stream",
          "name": "stdin",
          "text": "Nhập x:  2\nNhập y:  3\n"
        },
        {
          "name": "stdout",
          "output_type": "stream",
          "text": "8.0\n"
        }
      ],
      "execution_count": 17
    },
    {
      "id": "7974aa7d-e040-4aed-a0d1-67f6af0ca75e",
      "cell_type": "code",
      "source": "",
      "metadata": {
        "trusted": true
      },
      "outputs": [],
      "execution_count": null
    }
  ]
}