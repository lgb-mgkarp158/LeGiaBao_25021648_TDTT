{
  "metadata": {
    "kernelspec": {
      "name": "python",
      "display_name": "Python (Pyodide)",
      "language": "python"
    },
    "language_info": {
      "codemirror_mode": {
        "name": "python",
        "version": 3
      },
      "file_extension": ".py",
      "mimetype": "text/x-python",
      "name": "python",
      "nbconvert_exporter": "python",
      "pygments_lexer": "ipython3",
      "version": "3.8"
    }
  },
  "nbformat_minor": 5,
  "nbformat": 4,
  "cells": [
    {
      "id": "fa6068da-5a44-4418-baf8-033e7e7403b7",
      "cell_type": "code",
      "source": "print('Hello World!')\n",
      "metadata": {
        "trusted": true
      },
      "outputs": [],
      "execution_count": null
    },
    {
      "id": "cc7826b9-f5d4-4650-8f88-aa9d4701b314",
      "cell_type": "code",
      "source": "name = input('Yêu cầu đồng chí nhập tên của mình: ')\nprint('Chào đồng chí', name)",
      "metadata": {
        "trusted": true
      },
      "outputs": [],
      "execution_count": null
    },
    {
      "id": "7266b3b3-e79a-43eb-8772-2216ce84151e",
      "cell_type": "code",
      "source": "a = int(input('Nhập số a: '))\nb = int(input('Nhập số b: '))\nTotal = a + b\nMinus = a - b\nMultiply = a * b\nDivide = a/b\nNguyen = a//b\nDu = a%b\n\nprint(f'Tổng của a và b là: {Total}, Hiệu của a và b là: {Minus}, Tích của a và b là: {Multiply}, Thương của a và b là: {Divide:.2f}, nguyên của a chia b là: {Nguyen}, dư của a chia b là: {Du}')",
      "metadata": {
        "trusted": true
      },
      "outputs": [],
      "execution_count": null
    },
    {
      "id": "4511883c-286e-4734-8953-7f42d8a7eef3",
      "cell_type": "code",
      "source": "a1, b1, c1, a2, b2, a3 = map(float, input().split())\navr= ((a1+b1+c1)+(a2+b2)*2+(a3*3))/10\nprint(f'Điểm trung bình của bạn là: {avr:.1f}')",
      "metadata": {
        "trusted": true
      },
      "outputs": [],
      "execution_count": null
    },
    {
      "id": "83d68cca-7ca6-4db1-81d0-3e33c5987099",
      "cell_type": "code",
      "source": "a, b = map(int, input().split())\nprint(a**b)",
      "metadata": {
        "trusted": true
      },
      "outputs": [],
      "execution_count": null
    },
    {
      "id": "0f7a62e0-6f6c-4736-a17a-855bec831600",
      "cell_type": "code",
      "source": "ch = input(\"Nhập bừa từ a đến z: \")\nprint(\"Mã Unicode của\", ch, \"là:\", ord(ch))\nch_inhoa = ch.upper()\nprint(\"Ký tự hoa tương ứng là:\", ch_inhoa)\n",
      "metadata": {
        "trusted": true
      },
      "outputs": [],
      "execution_count": null
    },
    {
      "id": "45da9d17-d87e-449d-938c-05cfc43890fb",
      "cell_type": "code",
      "source": "A = ((13 ** 2) * 3) + 5\nB = 13**2*3 + 5\nprint(A)\nprint (B)",
      "metadata": {
        "trusted": true
      },
      "outputs": [],
      "execution_count": null
    },
    {
      "id": "6142c777-f7cc-48e7-b645-7b2c283ae8fe",
      "cell_type": "code",
      "source": "celcius=float(input('Nhập nhiệt độ hiện tại của Hà Nội: '))\nfar= (9/5)*celcius + 32\nprint(f'Nhiệt độ hiện tại của Hà Nội là:  {far:.2f}, độ F')\n",
      "metadata": {
        "trusted": true
      },
      "outputs": [],
      "execution_count": null
    },
    {
      "id": "a6f58c3c-878a-4a18-9227-2bdc33e950b0",
      "cell_type": "code",
      "source": "movado= int(input('Giá của chiếc đồng hồ Sơn Tùng định mua là : $')) \nshipment=10\ntax = movado*0.3 \nVAT = movado*0.1\ntotal = shipment + tax + VAT + movado\nprint(f'Tổng số tiền Sơn Tùng phải trả là : $ {total:.2f}')\n\n",
      "metadata": {
        "trusted": true
      },
      "outputs": [],
      "execution_count": null
    },
    {
      "id": "66a35c66-c11e-4c5b-8fcf-435c95a8eaa3",
      "cell_type": "code",
      "source": "a, b, c = input('hãy viết tên những đồng chí trong tiểu đội của anh ').split()\nprint(f'Xin chào, Đồng chí {c}, {b} và {a}.', sep = '')",
      "metadata": {
        "trusted": true
      },
      "outputs": [],
      "execution_count": null
    },
    {
      "id": "fc6bc47f-6f73-450d-81e6-74971589d55e",
      "cell_type": "code",
      "source": "h = int(input(' Hãy nhập số giờ bạn muốn chuyển đổi sang giây:'))\nm = int(input(' Hãy nhập số phút bạn muốn chuyển đổi sang giây:')) \ns = h*3600 + m*60\nprint('Tổng số giây là:', s)\n",
      "metadata": {
        "trusted": true
      },
      "outputs": [],
      "execution_count": null
    },
    {
      "id": "51c8651c-f635-40f8-afb1-1b7212d471b8",
      "cell_type": "code",
      "source": "n = int(input('Cục rubix của bạn có độ dài mấy đơn vị ? '))\nm = n**2*6\nprint(f'Cục rubix của bạn gần {m} miếng dán để bao phủ hết bề mặt. ')",
      "metadata": {
        "trusted": true
      },
      "outputs": [],
      "execution_count": null
    },
    {
      "id": "eed830f0-f003-45f2-bd2f-427598fadd67",
      "cell_type": "code",
      "source": "a = int(input(\"Nhập số a: \"))\nb = int(input(\"Nhập số b: \"))\nprint((a * b) % 10)\n",
      "metadata": {
        "trusted": true
      },
      "outputs": [],
      "execution_count": null
    },
    {
      "id": "0b132080-dd2b-4b5e-88a9-578519d8b956",
      "cell_type": "code",
      "source": "a, b = input('Nhập hai số a và b lần lượt').split()\na, b = b,a\nprint('Sau khi hoán đổi, a =', a, 'và b =', b)",
      "metadata": {
        "trusted": true
      },
      "outputs": [],
      "execution_count": null
    },
    {
      "id": "8fc80271-3ffa-45d9-918f-54b2f5281b02",
      "cell_type": "code",
      "source": "n = int(input())\nprint(3 * n * (n - 1) + 1)\n",
      "metadata": {
        "trusted": true
      },
      "outputs": [],
      "execution_count": null
    },
    {
      "id": "2d6a2827-caa5-4587-8b50-425bfffd3a8c",
      "cell_type": "code",
      "source": "print(\"Spring\\nSummer\\nAutumn\\nWinter\")\nprint(\"Spring\", \"Summer\", \"Autumn\", \"Winter\", sep=\"\\n\")\n",
      "metadata": {
        "trusted": true
      },
      "outputs": [],
      "execution_count": null
    },
    {
      "id": "bb0d0978-0589-4bdc-9048-d5625893e311",
      "cell_type": "code",
      "source": "print ('  *   ')\nprint (' *** ')\nprint ('*****')",
      "metadata": {
        "trusted": true
      },
      "outputs": [
        {
          "name": "stdout",
          "output_type": "stream",
          "text": "  *   \n *** \n*****\n"
        }
      ],
      "execution_count": 1
    },
    {
      "id": "c1e898e5-723b-4c1b-b73f-a27f69aaa92b",
      "cell_type": "code",
      "source": "print(\"#####    #       #####  #####\")\nprint(\"  #      #  #      #      #  \")\nprint(\"  #      #   #     #      #  \")\nprint(\"  #      #  #      #      #  \")\nprint(\"  #      # #       #      #  \")\nprint(\"  #      #         #      #  \")",
      "metadata": {
        "trusted": true
      },
      "outputs": [],
      "execution_count": null
    },
    {
      "id": "ea5a50b3-4e0a-4f39-ac40-7b0a5869d37c",
      "cell_type": "code",
      "source": "days = [\"Monday\", \"Tuesday\", \"Wednesday\", \"Thursday\", \"Friday\", \"Saturday\", \"Sunday\"]\n\nfor day in days:\n    print(day)",
      "metadata": {
        "trusted": true
      },
      "outputs": [],
      "execution_count": null
    },
    {
      "id": "d8d94354-c269-4f98-acc1-03fae71a8d72",
      "cell_type": "code",
      "source": "months = [\"January\", \"February\", \"March\", \"April\", \"May\", \"June\", \"July\", \"August\", \"September\", \"October\", \"November\", \"December\"]\n\nfor month in months:\n    print(month)",
      "metadata": {
        "trusted": true
      },
      "outputs": [],
      "execution_count": null
    },
    {
      "id": "dbeaa35f-f93a-4f73-8ed9-e96225f154ac",
      "cell_type": "code",
      "source": "for i in range(11):\n    print(\"Hello, world\")",
      "metadata": {
        "trusted": true
      },
      "outputs": [],
      "execution_count": null
    }
  ]
}